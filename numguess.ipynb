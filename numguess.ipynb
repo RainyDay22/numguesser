{
 "cells": [
  {
   "cell_type": "code",
   "execution_count": 162,
   "metadata": {},
   "outputs": [],
   "source": [
    "import math\n",
    "import time\n",
    "from random import randrange\n",
    "\n",
    "class player:\n",
    "    def __init__(self, name_, pool_size, num =-1, pieces=0, score=0) -> None:    \n",
    "        self.name=name_\n",
    "\n",
    "        if num != -1:\n",
    "            self.number=num #generated indep so multiple people can have the same number\n",
    "        else:\n",
    "            self.number = randrange(1,100)\n",
    "        \n",
    "        self.cards = [\"+\",\"x\",\"/\", \"z\"]\n",
    "        self.pieces =pieces\n",
    "        self.score = score\n",
    "        self.guesses = [None] * pool_size\n"
   ]
  },
  {
   "cell_type": "code",
   "execution_count": 122,
   "metadata": {},
   "outputs": [],
   "source": [
    "def csvline2list(line): #input processing\n",
    "    print(line)\n",
    "    acc=\"\"\n",
    "    end_list = []\n",
    "    for c in line:\n",
    "        if (c==\",\"):\n",
    "            end_list+=[acc]\n",
    "            acc=\"\"\n",
    "        elif(c==\" \"):\n",
    "            pass\n",
    "        else:\n",
    "            acc = acc+c\n",
    "    end_list+=[acc]\n",
    "    return end_list\n"
   ]
  },
  {
   "cell_type": "code",
   "execution_count": 123,
   "metadata": {},
   "outputs": [],
   "source": [
    "def handle_op(op, n1, n2): #BSN LOGIC\n",
    "    if (op == \"+\"):\n",
    "        result = n1 + n2 #both nums should already be ints\n",
    "        if (result <20):\n",
    "            return \"between 3-20\"\n",
    "        elif (result>180):\n",
    "            return \"between 180-198\"\n",
    "        else:\n",
    "            return str(result)\n",
    "    elif (op==\"x\"):\n",
    "        return str(n1*n2)[-1]\n",
    "    elif(op==\"/\"):\n",
    "        return str(math.floor(max(abs(n1/n2), abs(n2/n1))))\n",
    "    elif(op==\"z\"):\n",
    "        v1 = math.floor(n1/10)\n",
    "        v2 = math.floor(n2/10)\n",
    "        return str(max(v1-v2, v2-v1))\n",
    "    else:\n",
    "        print(\"Error, invalid operation\")\n",
    "        return \"non-existent move\""
   ]
  },
  {
   "cell_type": "code",
   "execution_count": 124,
   "metadata": {},
   "outputs": [
    {
     "name": "stdout",
     "output_type": "stream",
     "text": [
      "unit test: zero operator\n",
      "9\n",
      "PASSED\n"
     ]
    }
   ],
   "source": [
    "#TESTING\n",
    "#result = csvline2list(\"alice, bob, colin,    daphne, eloise\") //unit test csvline2list\n",
    "\n",
    "# hey = handle_op(\"/\", 8, 93)\n",
    "# print(\"unit test: divide operator\")\n",
    "# if (hey == '11'): print(\"PASSED\")\n",
    "# else: print(\"FAILED\")\n",
    "\n",
    "hey = handle_op(\"z\", 9, 93)\n",
    "print(\"unit test: zero operator\")\n",
    "print(hey)\n",
    "if (hey == '9'): print(\"PASSED\")\n",
    "else: print(\"FAILED\")"
   ]
  },
  {
   "cell_type": "code",
   "execution_count": 165,
   "metadata": {},
   "outputs": [],
   "source": [
    "def init_players(players): #BSN LOGIC\n",
    "    #proc input\n",
    "    p_input= input(\"Enter a comma separated list of all participants: \") #does not check for duplicates\n",
    "    p_names = csvline2list(p_input)\n",
    "\n",
    "    #init players\n",
    "    p_num = len(p_names)\n",
    "\n",
    "    for p in p_names:\n",
    "        players+= [player(p, p_num)]\n",
    "\n",
    "    #assign pieces\n",
    "    for r in range(math.floor(p_num/2)): #a third of the players get pieces\n",
    "        players[randrange(p_num)].pieces= players[randrange(p_num)].pieces+1 #done w replacement so worst case 1 person could get all\n",
    "\n",
    "    return players"
   ]
  },
  {
   "cell_type": "code",
   "execution_count": 150,
   "metadata": {},
   "outputs": [],
   "source": [
    "def test_init_players(players): #TESTING\n",
    "    print(\"Test init\")\n",
    "    players += [player(\"alice\",3, 93, 2),\n",
    "                player(\"bob\", 3, 44, 0),\n",
    "                player(\"liza\", 3, 91, 3)]\n",
    "\n",
    "    return players"
   ]
  },
  {
   "cell_type": "code",
   "execution_count": 153,
   "metadata": {},
   "outputs": [],
   "source": [
    "def print_players(pp):#Utility\n",
    "    for p in pp:\n",
    "        attributes = vars(p)\n",
    "        print(', '.join(\"%s: %s\" % item for item in attributes.items()))"
   ]
  },
  {
   "cell_type": "code",
   "execution_count": 166,
   "metadata": {},
   "outputs": [
    {
     "name": "stdout",
     "output_type": "stream",
     "text": [
      "a,b,c,d,e,f\n",
      "name: a, number: 90, cards: ['+', 'x', '/', 'z'], pieces: 0, score: 0, guesses: [None, None, None, None, None, None]\n",
      "name: b, number: 29, cards: ['+', 'x', '/', 'z'], pieces: 0, score: 0, guesses: [None, None, None, None, None, None]\n",
      "name: c, number: 67, cards: ['+', 'x', '/', 'z'], pieces: 1, score: 0, guesses: [None, None, None, None, None, None]\n",
      "name: d, number: 37, cards: ['+', 'x', '/', 'z'], pieces: 0, score: 0, guesses: [None, None, None, None, None, None]\n",
      "name: e, number: 77, cards: ['+', 'x', '/', 'z'], pieces: 1, score: 0, guesses: [None, None, None, None, None, None]\n",
      "name: f, number: 68, cards: ['+', 'x', '/', 'z'], pieces: 0, score: 0, guesses: [None, None, None, None, None, None]\n"
     ]
    }
   ],
   "source": [
    "#TESTING\n",
    "\n",
    "yeet = []\n",
    "init_players(yeet) \n",
    "print_players(yeet)\n"
   ]
  },
  {
   "cell_type": "code",
   "execution_count": 129,
   "metadata": {},
   "outputs": [],
   "source": [
    "def proc_play(id1, id2, op, players): #ids are int #BSN LOGIC\n",
    "#needs testing of list modification\n",
    "\n",
    "    try:\n",
    "        p1 = players[id1]\n",
    "        p2 = players[id2]\n",
    "\n",
    "        if(p1 is p2): print(\"Error, cannot check operand card with yourself\")\n",
    "            \n",
    "    except(IndexError):\n",
    "        print(\"Error, Unknown player id. Please retry your request.\")\n",
    "        return\n",
    "\n",
    "    if (op in p1.cards and op in p2.cards):\n",
    "        print(\"your result is \" + handle_op(op, p1.number, p2.number))\n",
    "        p1.cards.remove(op)\n",
    "        p2.cards.remove(op)\n",
    "    else:\n",
    "        print(\"Error, at least one card is missing.\")\n",
    "    \n",
    "    return"
   ]
  },
  {
   "cell_type": "code",
   "execution_count": 145,
   "metadata": {},
   "outputs": [],
   "source": [
    "def handle_stdin():\n",
    "    print(\"Welcome to numguesser!\")\n",
    "\n",
    "    players = []\n",
    "    test_init_players(players)\n",
    "    #init_players(players)\n",
    "\n",
    "    #explain rules TODO\n",
    "\n",
    "    #set timer #nothing under this has been tested at all\n",
    "    start = time.time()\n",
    "    limit = 5#60*10 #ten minutes in seconds\n",
    "\n",
    "    #main loop\n",
    "    while(True):\n",
    "\n",
    "        instr = input( \"Enter your request (play, buy, hand, check or end)\")\n",
    "        instr = instr.strip()\n",
    "\n",
    "        if (instr ==\"play\"):\n",
    "            op = input(\"Enter the operand card you would like to play:\")\n",
    "            p1 = input(\"Enter player 1 id:\")\n",
    "            p2 = input (\"Enter player 2 id:\")\n",
    "            \n",
    "            proc_play(int(p1.strip()), int(p2.strip()),op.strip(), players)\n",
    "        \n",
    "        elif (instr==\"buy\"):\n",
    "            p1 = input(\"Enter player id:\")\n",
    "        \n",
    "            #start proc_buy\n",
    "\n",
    "            try:\n",
    "                p1 = players[int(p1.strip())]\n",
    "            except(IndexError):\n",
    "                print(\"Error, Unknown player id. Please retry your request.\")\n",
    "                continue\n",
    "            \n",
    "            if (p1.pieces>0): \n",
    "                p1.pieces = p1.pieces-1\n",
    "                p1.cards += [\"+\",\"x\",\"/\",\"z\"]\n",
    "                print(\"you have successfully bought another set of 4 cards, new piece count is \" + str(p1.pieces))\n",
    "            else:\n",
    "                print(\"Error, you do not have enough pieces.\")\n",
    "            #end proc_buy\n",
    "        \n",
    "        elif(instr ==\"hand\"):\n",
    "            p1 = input(\"Enter player id:\")\n",
    "            \n",
    "            try:\n",
    "                p1 = players[int(p1.strip())]\n",
    "            except(IndexError):\n",
    "                print(\"Error, Unknown player id. Please retry your request.\")\n",
    "                continue\n",
    "\n",
    "            print(\"Your current hand is \", p1.cards)\n",
    "\n",
    "        elif (instr==\"check\"): #partly for debugging\n",
    "            print_players(players)\n",
    "\n",
    "        elif(instr==\"end\"):\n",
    "            break\n",
    "\n",
    "        else:\n",
    "            print(\"Error, unknown command. Please try again.\")\n",
    "\n",
    "\n",
    "\n",
    "        #check self pieces, check self cards, search id by name    \n",
    "\n",
    "        #instruction to see remaining cards/view check history (add logging to file)\n",
    "\n",
    "        #allow making guesses\n",
    "\n",
    "    #at game end, check values\n",
    "    #calculate scores\n",
    "\n",
    "\n",
    "\n",
    "# if __name__ == \"__main__\":\n",
    "#     main()"
   ]
  },
  {
   "cell_type": "code",
   "execution_count": 146,
   "metadata": {},
   "outputs": [
    {
     "name": "stdout",
     "output_type": "stream",
     "text": [
      "Welcome to numguesser!\n",
      "Test init\n",
      "name: alice, number: 93, cards: ['+', 'x', '/', 'z'], pieces: 2, score: 0, guesses: {}\n",
      "name: bob, number: 44, cards: ['+', 'x', '/', 'z'], pieces: 0, score: 0, guesses: {}\n",
      "name: liza, number: 91, cards: ['+', 'x', '/', 'z'], pieces: 3, score: 0, guesses: {}\n"
     ]
    }
   ],
   "source": [
    "handle_stdin()"
   ]
  },
  {
   "cell_type": "code",
   "execution_count": 135,
   "metadata": {},
   "outputs": [],
   "source": [
    "def simple_timer():\n",
    "    start = time.time()\n",
    "    limit = 5\n",
    "    while (True):\n",
    "        if time.time() > start+limit:\n",
    "            print(\"woop\")\n",
    "            break"
   ]
  }
 ],
 "metadata": {
  "kernelspec": {
   "display_name": "new_env",
   "language": "python",
   "name": "python3"
  },
  "language_info": {
   "codemirror_mode": {
    "name": "ipython",
    "version": 3
   },
   "file_extension": ".py",
   "mimetype": "text/x-python",
   "name": "python",
   "nbconvert_exporter": "python",
   "pygments_lexer": "ipython3",
   "version": "3.11.7"
  }
 },
 "nbformat": 4,
 "nbformat_minor": 2
}
