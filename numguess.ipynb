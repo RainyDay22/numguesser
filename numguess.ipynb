{
 "cells": [
  {
   "cell_type": "code",
   "execution_count": 83,
   "metadata": {},
   "outputs": [],
   "source": [
    "import math\n",
    "import time\n",
    "from random import randrange\n",
    "import logging\n",
    "# from inputimeout import inputimeout \n",
    "\n",
    "class player:\n",
    "    def __init__(self, name_, pool_size, num, pieces=0, score=0) -> None:    \n",
    "        self.name=name_\n",
    "\n",
    "        # if num != -1:\n",
    "        self.number=num #generated indep so multiple people can have the same number\n",
    "        # else:\n",
    "        #     self.number = randrange(1,100)\n",
    "        \n",
    "        self.cards = [\"+\",\"x\",\"/\", \"z\"]\n",
    "        self.pieces =pieces\n",
    "        self.score = score\n",
    "        self.guesses = [0] * pool_size\n"
   ]
  },
  {
   "cell_type": "code",
   "execution_count": 101,
   "metadata": {},
   "outputs": [],
   "source": [
    "def csvline2list(line): #input processing\n",
    "    acc=\"\"\n",
    "    end_list = []\n",
    "    for c in line:\n",
    "        if (c==\",\"):\n",
    "            end_list+=[acc]\n",
    "            acc=\"\"\n",
    "        elif(c==\" \"):\n",
    "            pass\n",
    "        else:\n",
    "            acc = acc+c\n",
    "    end_list+=[acc]\n",
    "    return end_list\n"
   ]
  },
  {
   "cell_type": "code",
   "execution_count": 85,
   "metadata": {},
   "outputs": [],
   "source": [
    "def handle_op(op, n1, n2): #BSN LOGIC\n",
    "    if (op == \"+\"):\n",
    "        result = n1 + n2 #both nums should already be ints\n",
    "        if (result <20):\n",
    "            return \"between 3-20\"\n",
    "        elif (result>180):\n",
    "            return \"between 180-198\"\n",
    "        else:\n",
    "            return str(result)\n",
    "    elif (op==\"x\"):\n",
    "        return str(n1*n2)[-1]\n",
    "    elif(op==\"/\"):\n",
    "        return str(math.floor(max(abs(n1/n2), abs(n2/n1))))\n",
    "    elif(op==\"z\"):\n",
    "        v1 = math.floor(n1/10)\n",
    "        v2 = math.floor(n2/10)\n",
    "        return str(max(v1-v2, v2-v1))\n",
    "    else:\n",
    "        print(\"Error, invalid operation\")\n",
    "        return \"non-existent move\""
   ]
  },
  {
   "cell_type": "code",
   "execution_count": 86,
   "metadata": {},
   "outputs": [
    {
     "name": "stdout",
     "output_type": "stream",
     "text": [
      "unit test: zero operator\n",
      "9\n",
      "PASSED\n"
     ]
    }
   ],
   "source": [
    "#TESTING\n",
    "#result = csvline2list(\"alice, bob, colin,    daphne, eloise\") //unit test csvline2list\n",
    "\n",
    "# hey = handle_op(\"/\", 8, 93)\n",
    "# print(\"unit test: divide operator\")\n",
    "# if (hey == '11'): print(\"PASSED\")\n",
    "# else: print(\"FAILED\")\n",
    "\n",
    "hey = handle_op(\"z\", 9, 93)\n",
    "print(\"unit test: zero operator\")\n",
    "print(hey)\n",
    "if (hey == '9'): print(\"PASSED\")\n",
    "else: print(\"FAILED\")"
   ]
  },
  {
   "cell_type": "code",
   "execution_count": 87,
   "metadata": {},
   "outputs": [],
   "source": [
    "def init_players(players): #Business LOGIC\n",
    "    #proc input\n",
    "    p_input= input(\"Enter a comma separated list of all participants. The order will determine your player id (starting at 0). \") #does not check for duplicates\n",
    "    p_names = csvline2list(p_input)\n",
    "\n",
    "    #init players\n",
    "    p_size = len(p_names)\n",
    "    answers = []\n",
    "\n",
    "    for p in p_names:\n",
    "        p_num = randrange(1,100)\n",
    "        players+= [player(p, p_size, p_num)]\n",
    "        answers+=[p_num]\n",
    "\n",
    "    #assign pieces\n",
    "    for r in range(math.floor(p_size/2)): #a third of the players get pieces\n",
    "        players[randrange(p_size)].pieces= players[randrange(p_size)].pieces+1 #done w replacement so worst case 1 person could get all\n",
    "\n",
    "    return answers"
   ]
  },
  {
   "cell_type": "code",
   "execution_count": 88,
   "metadata": {},
   "outputs": [],
   "source": [
    "def test_init_players(players): #TESTING\n",
    "    print(\"Test init\")\n",
    "    players += [player(\"alice\",3, 93, 2),\n",
    "                player(\"bob\", 3, 44, 0),\n",
    "                player(\"liza\", 3, 91, 3)]\n",
    "\n",
    "    return [93,44,91]"
   ]
  },
  {
   "cell_type": "code",
   "execution_count": 89,
   "metadata": {},
   "outputs": [],
   "source": [
    "def print_players(pp):#Utility\n",
    "    for p in pp:\n",
    "        attributes = vars(p)\n",
    "        print(', '.join(\"%s: %s\" % item for item in attributes.items()))"
   ]
  },
  {
   "cell_type": "code",
   "execution_count": 108,
   "metadata": {},
   "outputs": [],
   "source": [
    "def print_ids(pp, show_pieces = False):\n",
    "    n=0\n",
    "    for p in pp:\n",
    "        if show_pieces:\n",
    "            print(n, p.name,p.pieces)\n",
    "        else:\n",
    "            print(n,p.name)    \n",
    "        n=n+1"
   ]
  },
  {
   "cell_type": "code",
   "execution_count": 110,
   "metadata": {},
   "outputs": [
    {
     "name": "stdout",
     "output_type": "stream",
     "text": [
      "0 a 0\n",
      "1 b 0\n",
      "2 c 1\n",
      "[59, 70, 35]\n"
     ]
    }
   ],
   "source": [
    "#TESTING\n",
    "\n",
    "yeet = []\n",
    "yote = init_players(yeet)#test_init_players(yeet)\n",
    "print_ids(yeet, True)\n",
    "print(yote)\n",
    "\n",
    "# yeet = []\n",
    "# init_players(yeet) \n",
    "# print_players(yeet)\n"
   ]
  },
  {
   "cell_type": "code",
   "execution_count": 107,
   "metadata": {},
   "outputs": [],
   "source": [
    "def proc_play(id1, id2, op, players): #ids are int #BSN LOGIC\n",
    "\n",
    "    try:\n",
    "        p1 = players[id1]\n",
    "        p2 = players[id2]\n",
    "\n",
    "        if(p1 is p2): print(\"Error, cannot check operand card with yourself\")\n",
    "            \n",
    "    except(IndexError):\n",
    "        print(\"Error, Unknown player id. Please retry your request.\")\n",
    "        return\n",
    "\n",
    "    if (op in p1.cards and op in p2.cards):\n",
    "        print(\"The result of operation \" +op+ \"between players\"+id1+id2+ \"is\"+ handle_op(op, p1.number, p2.number))\n",
    "        p1.cards.remove(op)\n",
    "        p2.cards.remove(op)\n",
    "    else:\n",
    "        print(\"Error, at least one card is missing.\")\n",
    "    \n",
    "    return"
   ]
  },
  {
   "cell_type": "code",
   "execution_count": 93,
   "metadata": {},
   "outputs": [],
   "source": [
    "def handle_stdin(players):\n",
    "    print(\"Welcome to numguesser!\")\n",
    "\n",
    "    # answers = test_init_players(players)\n",
    "    answers = init_players(players)\n",
    "\n",
    "    #explain rules TODO\n",
    "\n",
    "\n",
    "    #set up timing logistics\n",
    "    limit = 10 #seconds\n",
    "    start = time.time()\n",
    "\n",
    "    #main loop\n",
    "    while(True):\n",
    "\n",
    "        instr = input( \"Enter your request (play, buy, hand, check, roster or end)\")\n",
    "        instr = instr.strip()\n",
    "\n",
    "        if (instr ==\"play\"):#play cards to get info\n",
    "            op = input(\"Enter the operand card you would like to play:\")\n",
    "            p1 = input(\"Enter player 1 id:\")\n",
    "            p2 = input (\"Enter player 2 id:\")\n",
    "            \n",
    "            proc_play(int(p1.strip()), int(p2.strip()),op.strip(), players)\n",
    "        \n",
    "        elif (instr==\"buy\"): #buy extra set of cards\n",
    "            p1 = input(\"Enter player id:\")\n",
    "        \n",
    "            #start proc_buy\n",
    "\n",
    "            try:\n",
    "                p1 = players[int(p1.strip())]\n",
    "            except(IndexError):\n",
    "                print(\"Error, Unknown player id. Please retry your request.\")\n",
    "                continue\n",
    "            \n",
    "            if (p1.pieces>0): \n",
    "                p1.pieces = p1.pieces-1\n",
    "                p1.cards += [\"+\",\"x\",\"/\",\"z\"]\n",
    "                print(\"you have successfully bought another set of 4 cards, new piece count is \" + str(p1.pieces))\n",
    "            else:\n",
    "                print(\"Error, you do not have enough pieces.\")\n",
    "            #end proc_buy\n",
    "        \n",
    "        elif(instr ==\"hand\"): #see player's cards\n",
    "            p1 = input(\"Enter player id:\")\n",
    "            \n",
    "            try:\n",
    "                p1 = players[int(p1.strip())]\n",
    "            except(IndexError):\n",
    "                print(\"Error, Unknown player id. Please retry your request.\")\n",
    "                continue\n",
    "\n",
    "            print(\"Your current hand is \", p1.cards)\n",
    "\n",
    "        elif (instr==\"check\"): #view everyone, partly for debugging\n",
    "            print_players(players)\n",
    "\n",
    "        elif(instr==\"roster\"): #view all names and ids\n",
    "            print_ids(players)\n",
    "\n",
    "        elif(instr==\"end\"): #end game\n",
    "            break\n",
    "\n",
    "        else:\n",
    "            print(\"Error, unknown command. Please try again.\")\n",
    "    return answers\n",
    "\n",
    "\n",
    "# if __name__ == \"__main__\":\n",
    "#     main()"
   ]
  },
  {
   "cell_type": "code",
   "execution_count": 102,
   "metadata": {},
   "outputs": [],
   "source": [
    "def make_guesses(players):\n",
    "    print(\"=============== Guessing phase ===================\")\n",
    "    print_ids(players)\n",
    "    for p in players:\n",
    "        guess = csvline2list(input(\"PLAYER \"+p.name+\"--- Enter a list of guesses for all players in the game.\"))\n",
    "        p.guesses = [ (lambda a:0 if a==\"\" else int(a)) (g) for g in guess]\n",
    "\n",
    "        # print(p.guesses)\n",
    "\n",
    "\n",
    "def test_make_guesses(players):\n",
    "    players[0].guesses=[93, 43, 90]\n",
    "    players[1].guesses=[93, 43, 91]\n",
    "    players[2].guesses=[92, 44, 91]"
   ]
  },
  {
   "cell_type": "code",
   "execution_count": 103,
   "metadata": {},
   "outputs": [
    {
     "name": "stdout",
     "output_type": "stream",
     "text": [
      "Test init\n",
      "=============== Guessing phase ===================\n",
      "0 alice\n",
      "1 bob\n",
      "2 liza\n"
     ]
    }
   ],
   "source": [
    "#testing make_guesses\n",
    "\n",
    "ahaha = []\n",
    "test_init_players(ahaha)\n",
    "make_guesses(ahaha)\n",
    "#inputs were 1,2,3 ,, and 1,4, "
   ]
  },
  {
   "cell_type": "code",
   "execution_count": null,
   "metadata": {},
   "outputs": [],
   "source": [
    "def score2piece(scores):\n",
    "    tie = True\n",
    "    pieces = [0]*len(scores)\n",
    "\n",
    "    first = scores[0]\n",
    "\n",
    "    for i in range(len(scores)):\n",
    "        if (scores[i]!=first):tie = False #check tie\n",
    "\n",
    "        if (scores[i]>= 16): pieces[i]=3 \n",
    "        elif (scores[i]>= 11): pieces[i]=2\n",
    "        elif (scores[i]>= 6): pieces[i]=1 \n",
    "        elif (scores[i]>= 4): pieces[i]=-1\n",
    "        elif (scores[i]>= -1): pieces[i]=-2 #assign pieces value\n",
    "        else: pieces[i]=-3\n",
    "\n",
    "    lowest= min(scores)\n",
    "    for i in range(len(scores)):\n",
    "        if scores[i]==lowest: pieces[i]=-3\n",
    "        \n",
    "    if tie: pieces = [-1]*len(scores)\n",
    "    return pieces"
   ]
  },
  {
   "cell_type": "code",
   "execution_count": null,
   "metadata": {},
   "outputs": [
    {
     "name": "stdout",
     "output_type": "stream",
     "text": [
      "[-2, -3, -1, 1]\n"
     ]
    }
   ],
   "source": [
    "#Testing score2piece\n",
    "s1 = [0,-1,4,6]\n",
    "s1_exp = [-2,-3, -1, 1]\n",
    "print(score2piece(s1))\n",
    "assert score2piece(s1)==s1_exp\n",
    "\n",
    "s2 = [11,11,11,11]\n",
    "s2_exp = [-1,-1,-1,-1]\n",
    "assert score2piece(s2)==s2_exp\n",
    "\n",
    "s3 = [17,12,7,4,0,-2]\n",
    "s3_exp = [3,2,1,-1,-2,-3]\n",
    "assert score2piece(s3)==s3_exp\n",
    "\n",
    "s4 = [2, -4, 4]\n",
    "s4_exp=[-2,-3,1]\n"
   ]
  },
  {
   "cell_type": "code",
   "execution_count": null,
   "metadata": {},
   "outputs": [],
   "source": [
    "def check_guesses(players, answers):\n",
    "    n_players = len(players)\n",
    "    tally = [0]*n_players\n",
    "    scoreboard = [None]*n_players\n",
    "    \n",
    "    for j in range(n_players):\n",
    "        p=players[j]\n",
    "        grades = [0]*n_players\n",
    "        \n",
    "        #grade all\n",
    "        for i in range(n_players):\n",
    "            if p.guesses[i]==answers[i]: \n",
    "                grades[i]=1\n",
    "                if (i!=j):#no penalty for guessing self correctly\n",
    "                    tally[i]=tally[i]+1 #update tally\n",
    "            else: grades[i]=-1\n",
    "\n",
    "            if (i==j):\n",
    "                grades[i]=grades[i]*5 #grade self\n",
    "        \n",
    "        scoreboard[j] = sum(grades)\n",
    "        p.score=scoreboard[j]\n",
    "\n",
    "\n",
    "    #add tally to scoreboard\n",
    "    scoreboard = [scoreboard[i] - tally[i] for i in range(n_players) ]\n",
    "\n",
    "    d_pieces = score2piece(scoreboard) #change in pieces\n",
    "\n",
    "    for i in range(n_players):\n",
    "        players[i].pieces = players[i].pieces + d_pieces[i]\n",
    "\n",
    "    #should probably do some sort of final podium scores\n",
    "    return scoreboard,d_pieces"
   ]
  },
  {
   "cell_type": "code",
   "execution_count": null,
   "metadata": {},
   "outputs": [
    {
     "name": "stdout",
     "output_type": "stream",
     "text": [
      "[2, -4, 4]\n"
     ]
    }
   ],
   "source": [
    "a = [1,1,1]\n",
    "b= [3,-3,5]\n",
    "b = [b[i] - a[i] for i in range(3) ]\n",
    "print(b)"
   ]
  },
  {
   "cell_type": "code",
   "execution_count": null,
   "metadata": {},
   "outputs": [
    {
     "name": "stdout",
     "output_type": "stream",
     "text": [
      "Test init\n",
      "[1, 1, 1]\n",
      "[3, -3, 5]\n",
      "[2, -4, 4]\n"
     ]
    }
   ],
   "source": [
    "#testing check_guesses\n",
    "oof =[]\n",
    "test_init_players(oof)\n",
    "test_make_guesses(oof)\n",
    "scbd, pieces = check_guesses(oof, [93, 44, 91])\n",
    "\n",
    "assert scbd == [2,-4,4]\n",
    "assert pieces == [-2, -3, -1]"
   ]
  },
  {
   "cell_type": "code",
   "execution_count": null,
   "metadata": {},
   "outputs": [],
   "source": [
    "def main():\n",
    "    logger = logging.getLogger(__name__)\n",
    "    logging.basicConfig(filename='numguesser.log', level=logging.INFO)\n",
    "    logger.info(\"hello world\")\n",
    "    \n",
    "    players = []\n",
    "    answers = handle_stdin(players) #done\n",
    "    make_guesses(players)\n",
    "    scoreboard, piece_count = check_guesses(players, answers) \n",
    "    print(\"**** The final results are: ******\")\n",
    "    print_players(players)\n",
    "    print(\"exit program woo\")"
   ]
  },
  {
   "cell_type": "code",
   "execution_count": 105,
   "metadata": {},
   "outputs": [
    {
     "name": "stdout",
     "output_type": "stream",
     "text": [
      "Welcome to numguesser!\n",
      "name: ab, number: 16, cards: ['+', 'x', '/', 'z'], pieces: 0, score: 0, guesses: [0, 0, 0]\n",
      "name: cd, number: 33, cards: ['+', 'x', '/', 'z'], pieces: 1, score: 0, guesses: [0, 0, 0]\n",
      "name: eek, number: 92, cards: ['+', 'x', '/', 'z'], pieces: 0, score: 0, guesses: [0, 0, 0]\n",
      "Error, you do not have enough pieces.\n",
      "you have successfully bought another set of 4 cards, new piece count is 0\n",
      "Your current hand is  ['+', 'x', '/', 'z', '+', 'x', '/', 'z']\n",
      "Error, at least one card is missing.\n",
      "your result is 2\n",
      "your result is 8\n",
      "Your current hand is  ['+', '/', '+', 'x', '/', 'z']\n",
      "Your current hand is  ['+', '/']\n",
      "Your current hand is  ['+', 'x', '/', 'z']\n",
      "=============== Guessing phase ===================\n",
      "0 ab\n",
      "1 cd\n",
      "2 eek\n",
      "[2, 2, 1]\n",
      "[5, -3, 7]\n",
      "[3, -5, 6]\n",
      "**** The final results are: ******\n",
      "name: ab, number: 16, cards: ['+', '/'], pieces: -2, score: 0, guesses: [16, 33, 32]\n",
      "name: cd, number: 33, cards: ['+', '/', '+', 'x', '/', 'z'], pieces: -3, score: 0, guesses: [16, 32, 92]\n",
      "name: eek, number: 92, cards: ['+', 'x', '/', 'z'], pieces: 1, score: 0, guesses: [16, 33, 92]\n",
      "exit program woo\n"
     ]
    }
   ],
   "source": [
    "main()"
   ]
  },
  {
   "cell_type": "code",
   "execution_count": null,
   "metadata": {},
   "outputs": [],
   "source": [
    "def simple_timer():\n",
    "    start = time.time()\n",
    "    limit = 5\n",
    "    while (True):\n",
    "        if time.time() > start+limit:\n",
    "            print(\"woop\")\n",
    "            break"
   ]
  }
 ],
 "metadata": {
  "kernelspec": {
   "display_name": "new_env",
   "language": "python",
   "name": "python3"
  },
  "language_info": {
   "codemirror_mode": {
    "name": "ipython",
    "version": 3
   },
   "file_extension": ".py",
   "mimetype": "text/x-python",
   "name": "python",
   "nbconvert_exporter": "python",
   "pygments_lexer": "ipython3",
   "version": "3.11.7"
  }
 },
 "nbformat": 4,
 "nbformat_minor": 2
}
